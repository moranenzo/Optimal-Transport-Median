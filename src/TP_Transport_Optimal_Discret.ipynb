{
  "cells": [
    {
      "cell_type": "markdown",
      "metadata": {},
      "source": [
        "# TP Transport Optimal Discret\n",
        "Ce notebook présente une étude sur le transport optimal entre deux ensembles de points générés aléatoirement, et l'utilisation de la distance Wasserstein pour quantifier ce transport. Le tout est illustré par des visualisations graphiques."
      ]
    },
    {
      "cell_type": "code",
      "execution_count": 1,
      "metadata": {},
      "outputs": [],
      "source": [
        "import numpy as np\n",
        "import matplotlib.pyplot as plt\n",
        "from utils import ech_X, transport_optimal, plot_transport, dist"
      ]
    },
    {
      "cell_type": "markdown",
      "metadata": {},
      "source": [
        "## 1. Génération des données\n",
        "Nous allons générer deux ensembles de points de manière aléatoire selon des lois normales. Ces ensembles serviront à illustrer le transport optimal."
      ]
    },
    {
      "cell_type": "code",
      "execution_count": 2,
      "metadata": {},
      "outputs": [],
      "source": [
        "n_points = 100  # Nombre de points à générer\n",
        "dimension = 2   # Dimension des points\n",
        "X = ech_X(n_points, dimension, loi='normale', params={'mean': 0, 'std': 1})\n",
        "Y = ech_X(n_points, dimension, loi='normale', params={'mean': 2, 'std': 1})"
      ]
    },
    {
      "cell_type": "markdown",
      "metadata": {},
      "source": [
        "## 2. Calcul du transport optimal\n",
        "Utilisons la fonction `transport_optimal` pour calculer le transport optimal entre les ensembles `X` et `Y`. Nous allons également calculer la distance Wasserstein qui quantifie ce transport."
      ]
    },
    {
      "cell_type": "code",
      "execution_count": 3,
      "metadata": {},
      "outputs": [],
      "source": [
        "cost, transport_matrix = transport_optimal(X, Y, dist_type='euclidean')\n",
        "wasserstein_distance = dist(X, Y, n_points)\n",
        "print(f'Distance Wasserstein entre X et Y : {wasserstein_distance}')"
      ]
    },
    {
      "cell_type": "markdown",
      "metadata": {},
      "source": [
        "## 3. Visualisation du transport optimal\n",
        "Nous allons maintenant afficher les résultats graphiques du transport optimal entre les ensembles `X` et `Y`. Les lignes noires représentent les correspondances entre les points."
      ]
    },
    {
      "cell_type": "code",
      "execution_count": 4,
      "metadata": {},
      "outputs": [],
      "source": [
        "plot_transport(X, Y, transport_matrix, title='Transport Optimal entre X et Y')\n",
        "plt.show()"
      ]
    },
    {
      "cell_type": "markdown",
      "metadata": {},
      "source": [
        "## 4. Conclusion\n",
        "Le calcul du transport optimal et de la distance Wasserstein nous permet de mieux comprendre comment deux ensembles de points peuvent être reliés de manière optimale, en minimisant le coût du transport entre eux."
      ]
    }
  ],
  "metadata": {
    "kernelspec": {
      "display_name": "Python 3",
      "language": "python",
      "name": "python3"
    },
    "language_info": {
      "name": "python",
      "version": "3.8.8"
    }
  },
  "nbformat": 4,
  "nbformat_minor": 5
}
